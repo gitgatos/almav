{
 "cells": [
  {
   "cell_type": "code",
   "execution_count": 1,
   "id": "a0990aeb",
   "metadata": {
    "_cell_guid": "b1076dfc-b9ad-4769-8c92-a6c4dae69d19",
    "_uuid": "8f2839f25d086af736a60e9eeb907d3b93b6e0e5",
    "execution": {
     "iopub.execute_input": "2024-06-08T23:52:51.112292Z",
     "iopub.status.busy": "2024-06-08T23:52:51.111007Z",
     "iopub.status.idle": "2024-06-08T23:52:52.180676Z",
     "shell.execute_reply": "2024-06-08T23:52:52.179496Z"
    },
    "papermill": {
     "duration": 1.077512,
     "end_time": "2024-06-08T23:52:52.183239",
     "exception": false,
     "start_time": "2024-06-08T23:52:51.105727",
     "status": "completed"
    },
    "tags": []
   },
   "outputs": [],
   "source": [
    "# This Python 3 environment comes with many helpful analytics libraries installed\n",
    "# It is defined by the kaggle/python Docker image: https://github.com/kaggle/docker-python\n",
    "# For example, here's several helpful packages to load\n",
    "\n",
    "import numpy as np # linear algebra\n",
    "import pandas as pd # data processing, CSV file I/O (e.g. pd.read_csv)\n",
    "\n",
    "# Input data files are available in the read-only \"../input/\" directory\n",
    "# For example, running this (by clicking run or pressing Shift+Enter) will list all files under the input directory\n",
    "\n",
    "import os\n",
    "for dirname, _, filenames in os.walk('/kaggle/input'):\n",
    "    for filename in filenames:\n",
    "        print(os.path.join(dirname, filename))\n",
    "\n",
    "# You can write up to 20GB to the current directory (/kaggle/working/) that gets preserved as output when you create a version using \"Save & Run All\" \n",
    "# You can also write temporary files to /kaggle/temp/, but they won't be saved outside of the current session"
   ]
  },
  {
   "cell_type": "code",
   "execution_count": 2,
   "id": "18440704",
   "metadata": {
    "execution": {
     "iopub.execute_input": "2024-06-08T23:52:52.189257Z",
     "iopub.status.busy": "2024-06-08T23:52:52.188204Z",
     "iopub.status.idle": "2024-06-08T23:53:23.998578Z",
     "shell.execute_reply": "2024-06-08T23:53:23.997009Z"
    },
    "papermill": {
     "duration": 31.816242,
     "end_time": "2024-06-08T23:53:24.001535",
     "exception": false,
     "start_time": "2024-06-08T23:52:52.185293",
     "status": "completed"
    },
    "tags": []
   },
   "outputs": [
    {
     "name": "stdout",
     "output_type": "stream",
     "text": [
      "\r\n",
      "\r\n",
      "\r\n",
      "\u001b[1;31mE: \u001b[0mUnable to locate package python-venv\u001b[0m\r\n",
      "\r\n",
      "\r\n",
      "\r\n",
      "python3-tk is already the newest version (3.8.10-0ubuntu1~20.04).\r\n",
      "0 upgraded, 0 newly installed, 0 to remove and 64 not upgraded.\r\n",
      "Cloning into 'kohya_ss'...\r\n",
      "fatal: unable to access 'https://github.com/bmaltais/kohya_ss.git/': Could not resolve host: github.com\r\n",
      "/bin/bash: line 0: cd: kohya_ss: No such file or directory\r\n",
      "chmod: cannot access './setup.sh': No such file or directory\r\n",
      "/bin/bash: python3.10-venv: command not found\r\n",
      "/bin/bash: ./setup.sh: No such file or directory\r\n"
     ]
    }
   ],
   "source": [
    "!sudo apt install python-venv\n",
    "!sudo apt install -y python3-tk\n",
    "!git clone https://github.com/bmaltais/kohya_ss.git\n",
    "!cd kohya_ss\n",
    "!chmod +x ./setup.sh\n",
    "!python3.10-venv\n",
    "!./setup.sh"
   ]
  }
 ],
 "metadata": {
  "kaggle": {
   "accelerator": "none",
   "dataSources": [],
   "dockerImageVersionId": 30732,
   "isGpuEnabled": false,
   "isInternetEnabled": false,
   "language": "python",
   "sourceType": "notebook"
  },
  "kernelspec": {
   "display_name": "Python 3",
   "language": "python",
   "name": "python3"
  },
  "language_info": {
   "codemirror_mode": {
    "name": "ipython",
    "version": 3
   },
   "file_extension": ".py",
   "mimetype": "text/x-python",
   "name": "python",
   "nbconvert_exporter": "python",
   "pygments_lexer": "ipython3",
   "version": "3.10.13"
  },
  "papermill": {
   "default_parameters": {},
   "duration": 36.322263,
   "end_time": "2024-06-08T23:53:24.527868",
   "environment_variables": {},
   "exception": null,
   "input_path": "__notebook__.ipynb",
   "output_path": "__notebook__.ipynb",
   "parameters": {},
   "start_time": "2024-06-08T23:52:48.205605",
   "version": "2.5.0"
  }
 },
 "nbformat": 4,
 "nbformat_minor": 5
}
